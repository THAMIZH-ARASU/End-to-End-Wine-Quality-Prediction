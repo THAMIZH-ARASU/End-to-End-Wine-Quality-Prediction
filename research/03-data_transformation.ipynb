{
 "cells": [
  {
   "cell_type": "code",
   "execution_count": 1,
   "metadata": {},
   "outputs": [
    {
     "data": {
      "text/plain": [
       "'c:\\\\PEC-26\\\\MLOPS - Journey\\\\Projects\\\\End-to-End-Wine-Quality-Prediction'"
      ]
     },
     "execution_count": 1,
     "metadata": {},
     "output_type": "execute_result"
    }
   ],
   "source": [
    "import os\n",
    "os.chdir('../')\n",
    "%pwd"
   ]
  },
  {
   "cell_type": "code",
   "execution_count": 2,
   "metadata": {},
   "outputs": [],
   "source": [
    "from dataclasses import dataclass\n",
    "from pathlib import Path\n",
    "\n",
    "@dataclass(frozen=True)\n",
    "class DataTransformationConfig:\n",
    "    root_dir: Path\n",
    "    data_path: Path"
   ]
  },
  {
   "cell_type": "code",
   "execution_count": 3,
   "metadata": {},
   "outputs": [],
   "source": [
    "from wine_quality.constants import *\n",
    "from wine_quality.utils.common import read_yaml, create_directories\n",
    "\n",
    "class ConfigurationManager:\n",
    "    def __init__(self, config_filepath: Path = CONFIG_FILE_PATH, params_filepath: Path = PARAMS_FILE_PATH, schema_filepath: Path = SCHEMA_FILE_PATH):\n",
    "        self.config = read_yaml(config_filepath)\n",
    "        self.params = read_yaml(params_filepath)\n",
    "        self.schema = read_yaml(schema_filepath)\n",
    "\n",
    "        create_directories([self.config.artifacts_root])\n",
    "\n",
    "    def getDataTransformationConfig(self) -> DataTransformationConfig:\n",
    "        config = self.config.data_transformation\n",
    "\n",
    "        create_directories([config.root_dir])\n",
    "\n",
    "        return DataTransformationConfig(\n",
    "            root_dir=config.root_dir,\n",
    "            data_path=config.data_path\n",
    "        )    "
   ]
  },
  {
   "cell_type": "code",
   "execution_count": 4,
   "metadata": {},
   "outputs": [],
   "source": [
    "import os\n",
    "from wine_quality import logger\n",
    "from sklearn.model_selection import train_test_split\n",
    "import pandas as pd\n",
    "\n",
    "class DataTransformation:\n",
    "    \"\"\"\n",
    "    This class shall be used to transform the raw data into test set and training set, assuming that the raw datat is already cleaned.\n",
    "    NOTE: You can add more data transformation methods in this class if you need to. Such as scaling, encoding, PCA, etc.\n",
    "          You can also perform all kinds of EDA in Machine Learning cycle here before passing the data to the Model.\n",
    "    \"\"\"\n",
    "    def __init__(self, config: DataTransformationConfig):\n",
    "        self.config = config\n",
    "    \n",
    "    def testTrainSplitting(self):\n",
    "        data = pd.read_csv(self.config.data_path)\n",
    "\n",
    "        # Split the data into test and train\n",
    "        train, test = train_test_split(data, test_size=0.2, random_state=42)\n",
    "\n",
    "        train.to_csv(os.path.join(self.config.root_dir, 'train.csv'), index=False)\n",
    "        test.to_csv(os.path.join(self.config.root_dir, 'test.csv'), index=False)\n",
    "\n",
    "        logger.info(\"Data Transformation: Test Train Splitting is done.\")\n",
    "        logger.info(f\"Train shape: {train.shape} \\nTest shape: {test.shape}\")\n",
    "\n",
    "        print(train.shape)\n",
    "        print(test.shape)"
   ]
  },
  {
   "cell_type": "code",
   "execution_count": 5,
   "metadata": {},
   "outputs": [
    {
     "name": "stdout",
     "output_type": "stream",
     "text": [
      "[2025-01-09 11:40:44,335: INFO: common yaml file: config\\config.yaml loaded successfully]\n",
      "[2025-01-09 11:40:44,336: INFO: common yaml file: params.yaml loaded successfully]\n",
      "[2025-01-09 11:40:44,339: INFO: common yaml file: schema.yaml loaded successfully]\n",
      "[2025-01-09 11:40:44,340: INFO: common created directory at: artifacts]\n",
      "[2025-01-09 11:40:44,341: INFO: common created directory at: artifacts/data_transformation]\n",
      "[2025-01-09 11:40:44,362: INFO: 3799609105 Data Transformation: Test Train Splitting is done.]\n",
      "[2025-01-09 11:40:44,362: INFO: 3799609105 Train shape: (1279, 12) \n",
      "Test shape: (320, 12)]\n",
      "(1279, 12)\n",
      "(320, 12)\n"
     ]
    }
   ],
   "source": [
    "try:\n",
    "    config = ConfigurationManager()\n",
    "    data_transformation_config = config.getDataTransformationConfig()\n",
    "    data_transformation = DataTransformation(data_transformation_config)\n",
    "    data_transformation.testTrainSplitting()\n",
    "except Exception as e:\n",
    "    raise e"
   ]
  },
  {
   "cell_type": "code",
   "execution_count": null,
   "metadata": {},
   "outputs": [],
   "source": []
  }
 ],
 "metadata": {
  "kernelspec": {
   "display_name": ".venv",
   "language": "python",
   "name": "python3"
  },
  "language_info": {
   "codemirror_mode": {
    "name": "ipython",
    "version": 3
   },
   "file_extension": ".py",
   "mimetype": "text/x-python",
   "name": "python",
   "nbconvert_exporter": "python",
   "pygments_lexer": "ipython3",
   "version": "3.12.6"
  }
 },
 "nbformat": 4,
 "nbformat_minor": 2
}
